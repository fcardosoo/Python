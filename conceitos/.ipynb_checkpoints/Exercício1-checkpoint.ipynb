{
 "cells": [
  {
   "cell_type": "code",
   "execution_count": 3,
   "metadata": {},
   "outputs": [
    {
     "name": "stdout",
     "output_type": "stream",
     "text": [
      "Qual a sua idade? 42\n"
     ]
    }
   ],
   "source": [
    "idade = int(input('Qual a sua idade? '))"
   ]
  },
  {
   "cell_type": "code",
   "execution_count": 4,
   "metadata": {},
   "outputs": [
    {
     "data": {
      "text/plain": [
       "int"
      ]
     },
     "execution_count": 4,
     "metadata": {},
     "output_type": "execute_result"
    }
   ],
   "source": [
    "type(idade)"
   ]
  },
  {
   "cell_type": "code",
   "execution_count": 5,
   "metadata": {},
   "outputs": [
    {
     "name": "stdout",
     "output_type": "stream",
     "text": [
      "42\n"
     ]
    }
   ],
   "source": [
    "print(idade)"
   ]
  },
  {
   "cell_type": "code",
   "execution_count": 6,
   "metadata": {},
   "outputs": [
    {
     "name": "stdout",
     "output_type": "stream",
     "text": [
      "84\n"
     ]
    }
   ],
   "source": [
    "print(idade*2)"
   ]
  },
  {
   "cell_type": "code",
   "execution_count": 19,
   "metadata": {},
   "outputs": [],
   "source": [
    "fruta = 'Laranja'"
   ]
  },
  {
   "cell_type": "code",
   "execution_count": 20,
   "metadata": {},
   "outputs": [
    {
     "data": {
      "text/plain": [
       "str"
      ]
     },
     "execution_count": 20,
     "metadata": {},
     "output_type": "execute_result"
    }
   ],
   "source": [
    "type(fruta)"
   ]
  },
  {
   "cell_type": "code",
   "execution_count": 21,
   "metadata": {},
   "outputs": [
    {
     "name": "stdout",
     "output_type": "stream",
     "text": [
      "suco de Laranja é o meu favorito\n"
     ]
    }
   ],
   "source": [
    "print('suco de %s é o meu favorito' %fruta)"
   ]
  },
  {
   "cell_type": "code",
   "execution_count": 22,
   "metadata": {},
   "outputs": [
    {
     "name": "stdout",
     "output_type": "stream",
     "text": [
      "Suco de Laranja é o meu favorito\n"
     ]
    }
   ],
   "source": [
    "print('Suco de {} é o meu favorito' .format(fruta))"
   ]
  },
  {
   "cell_type": "code",
   "execution_count": 26,
   "metadata": {},
   "outputs": [],
   "source": [
    "cor1 = 'azul'\n",
    "cor2 = 'rosa'\n",
    "cor3= 'prata'"
   ]
  },
  {
   "cell_type": "code",
   "execution_count": 27,
   "metadata": {},
   "outputs": [
    {
     "name": "stdout",
     "output_type": "stream",
     "text": [
      "O céu é azul, a flor é rosa e meu carro é prata\n"
     ]
    }
   ],
   "source": [
    "print('O céu é {0}, a flor é {1} e meu carro é {2}' .format(cor1, cor2, cor3))"
   ]
  },
  {
   "cell_type": "code",
   "execution_count": 28,
   "metadata": {},
   "outputs": [
    {
     "name": "stdout",
     "output_type": "stream",
     "text": [
      "5.666666666666667\n"
     ]
    }
   ],
   "source": [
    "conta = 17/3\n",
    "print(conta)"
   ]
  },
  {
   "cell_type": "code",
   "execution_count": 31,
   "metadata": {},
   "outputs": [
    {
     "name": "stdout",
     "output_type": "stream",
     "text": [
      "O resultado da conta é:5.67\n"
     ]
    }
   ],
   "source": [
    "print('O resultado da conta é:{:.2f}' .format(conta)) \n",
    "#como arredondar para 2 casas após a vírgula"
   ]
  },
  {
   "cell_type": "code",
   "execution_count": 32,
   "metadata": {},
   "outputs": [
    {
     "name": "stdout",
     "output_type": "stream",
     "text": [
      "possui muitas calorias!\n"
     ]
    }
   ],
   "source": [
    "comida = 'pizza'\n",
    "if comida == 'pizza':\n",
    "    print('possui muitas calorias!')"
   ]
  },
  {
   "cell_type": "code",
   "execution_count": 33,
   "metadata": {},
   "outputs": [
    {
     "name": "stdout",
     "output_type": "stream",
     "text": [
      "comida light\n"
     ]
    }
   ],
   "source": [
    "comida = 'macarrão'\n",
    "if comida == 'pizza':\n",
    "    print('possui muitas calorias!')\n",
    "else:\n",
    "    print('comida light')"
   ]
  },
  {
   "cell_type": "code",
   "execution_count": 38,
   "metadata": {},
   "outputs": [
    {
     "name": "stdout",
     "output_type": "stream",
     "text": [
      "Qual a sua comida favorita?abobora\n",
      "possui poucas calorias!\n"
     ]
    }
   ],
   "source": [
    "comida = input('Qual a sua comida favorita?')\n",
    "if comida == 'pizza':\n",
    "    print('possui muitas calorias!')\n",
    "    print('possui diversos sabores!')\n",
    "    print('pode ser alacarte ou rodízio!')    \n",
    "elif comida == 'abobora':\n",
    "    print('possui poucas calorias!')\n",
    "elif comida == 'macarrão':\n",
    "    print('possui excesso de carboidratos!')\n",
    "else:\n",
    "    print('desconheço as calorias')"
   ]
  },
  {
   "cell_type": "code",
   "execution_count": 41,
   "metadata": {},
   "outputs": [
    {
     "name": "stdout",
     "output_type": "stream",
     "text": [
      "Não é pizza!\n"
     ]
    }
   ],
   "source": [
    "#Simbolo de diferente\n",
    "comida='macarrão'\n",
    "if comida != 'pizza':\n",
    "    print('Não é pizza!')\n",
    "else:\n",
    "    print('É pizza!')"
   ]
  },
  {
   "cell_type": "code",
   "execution_count": null,
   "metadata": {},
   "outputs": [],
   "source": []
  }
 ],
 "metadata": {
  "kernelspec": {
   "display_name": "Python 3",
   "language": "python",
   "name": "python3"
  },
  "language_info": {
   "codemirror_mode": {
    "name": "ipython",
    "version": 3
   },
   "file_extension": ".py",
   "mimetype": "text/x-python",
   "name": "python",
   "nbconvert_exporter": "python",
   "pygments_lexer": "ipython3",
   "version": "3.8.3"
  }
 },
 "nbformat": 4,
 "nbformat_minor": 4
}
