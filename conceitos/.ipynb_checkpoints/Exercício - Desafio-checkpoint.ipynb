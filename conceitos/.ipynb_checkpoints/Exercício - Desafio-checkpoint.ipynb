{
 "cells": [
  {
   "cell_type": "code",
   "execution_count": null,
   "metadata": {},
   "outputs": [],
   "source": [
    "ano_nasc = int(input('Em que ano você nasceu?'))\n",
    "idade = 2020 - ano_nasc\n",
    "if idade >= 18:\n",
    "         print('Adulto')\n",
    "else:\n",
    "         print('Menor de idade!')"
   ]
  },
  {
   "cell_type": "code",
   "execution_count": null,
   "metadata": {},
   "outputs": [],
   "source": [
    "# Comando for - comando 'range' indica quantas vezes uma ação será executada\n",
    "for i in range(5):\n",
    "    print(i)"
   ]
  },
  {
   "cell_type": "code",
   "execution_count": null,
   "metadata": {},
   "outputs": [],
   "source": [
    "for i in range(5):\n",
    "    print(i*2)"
   ]
  },
  {
   "cell_type": "code",
   "execution_count": null,
   "metadata": {},
   "outputs": [],
   "source": [
    "a = 10\n",
    "for i in range(5):\n",
    "    a = a + 1\n",
    "    print(a)"
   ]
  },
  {
   "cell_type": "code",
   "execution_count": null,
   "metadata": {},
   "outputs": [],
   "source": [
    "palavra = 'matematica'\n",
    "for t in palavra:\n",
    "    print(t)"
   ]
  },
  {
   "cell_type": "code",
   "execution_count": null,
   "metadata": {},
   "outputs": [],
   "source": [
    "lista = [2, 54, 8, 10, 4, 4]\n",
    "for num in [lista]:\n",
    "    print(num)"
   ]
  },
  {
   "cell_type": "code",
   "execution_count": 5,
   "metadata": {},
   "outputs": [
    {
     "name": "stdout",
     "output_type": "stream",
     "text": [
      "ainda não deu\n",
      "ainda não deu\n",
      "ainda não deu\n",
      "ainda não deu\n",
      "ainda não deu\n",
      "ainda não deu\n",
      "agora deu\n"
     ]
    }
   ],
   "source": [
    "# o comendo 'import time' é usado para importar a biblioteca time\n",
    "# o comando time.sleep(1) faz o código aguardar 1 segundo\n",
    "\n",
    "import time\n",
    "contador = 0\n",
    "while contador < 10:\n",
    "    print('ainda não deu')\n",
    "    contador = contador + 1\n",
    "    if contador == 6:\n",
    "        break\n",
    "    time.sleep(1)\n",
    "print ('agora deu')"
   ]
  },
  {
   "cell_type": "code",
   "execution_count": 16,
   "metadata": {},
   "outputs": [
    {
     "name": "stdout",
     "output_type": "stream",
     "text": [
      "Informe um número para fatorar: 6\n",
      "6! = 720\n"
     ]
    }
   ],
   "source": [
    "#Fatorial de um número\n",
    "numero = int(input('Informe um número para fatorar: '))\n",
    "fatorial = numero\n",
    "contador = 1\n",
    "while (numero - contador) > 1:\n",
    "    fatorial = fatorial * (numero - contador)\n",
    "    contador += 1\n",
    "print('{0}! = {1}' .format(numero, fatorial))"
   ]
  },
  {
   "cell_type": "code",
   "execution_count": 20,
   "metadata": {},
   "outputs": [
    {
     "name": "stdout",
     "output_type": "stream",
     "text": [
      "Insira um numero5\n"
     ]
    },
    {
     "data": {
      "text/plain": [
       "120"
      ]
     },
     "execution_count": 20,
     "metadata": {},
     "output_type": "execute_result"
    }
   ],
   "source": [
    "import math\n",
    "numero=int(input('Insira um numero: '))\n",
    "math.factorial(numero)"
   ]
  },
  {
   "cell_type": "code",
   "execution_count": 27,
   "metadata": {},
   "outputs": [
    {
     "data": {
      "text/plain": [
       "'2020-11-05'"
      ]
     },
     "execution_count": 27,
     "metadata": {},
     "output_type": "execute_result"
    }
   ],
   "source": [
    "#importando data da biblioteca date.time\n",
    "#utilizando o isoformat para melhorar a visualização da data\n",
    "import datetime\n",
    "datetime.date.isoformat(datetime.date.today())"
   ]
  },
  {
   "cell_type": "code",
   "execution_count": 29,
   "metadata": {},
   "outputs": [
    {
     "data": {
      "text/plain": [
       "'2020-11-05'"
      ]
     },
     "execution_count": 29,
     "metadata": {},
     "output_type": "execute_result"
    }
   ],
   "source": [
    "#Outra forma de importar a biblioteca date(apenas a data)\n",
    "from datetime import date\n",
    "date.isoformat(date.today())"
   ]
  },
  {
   "cell_type": "code",
   "execution_count": 32,
   "metadata": {},
   "outputs": [],
   "source": [
    "#Definindo uma variável\n",
    "def parabens():\n",
    "    print(' Parabéns a você\\n Nessa data querida \\n Muitas felicidades \\n Muitos anos de vida!!!')"
   ]
  },
  {
   "cell_type": "code",
   "execution_count": 33,
   "metadata": {},
   "outputs": [
    {
     "name": "stdout",
     "output_type": "stream",
     "text": [
      " Parabéns a você\n",
      " Nessa data querida \n",
      " Muitas felicidades \n",
      " Muitos anos de vida!!!\n"
     ]
    }
   ],
   "source": [
    "parabens()"
   ]
  },
  {
   "cell_type": "code",
   "execution_count": 34,
   "metadata": {},
   "outputs": [],
   "source": [
    "def temletrau():\n",
    "    frase = input('Digite uma frase: ')\n",
    "    if 'u' in frase:\n",
    "        print('Você utilizou a vogal u')\n",
    "    else:\n",
    "        print('Você não utilizou a vogal u')"
   ]
  },
  {
   "cell_type": "code",
   "execution_count": 36,
   "metadata": {},
   "outputs": [
    {
     "name": "stdout",
     "output_type": "stream",
     "text": [
      "Digite uma frase: Hoje o dia está nublado\n",
      "Você utilizou a vogal u\n"
     ]
    }
   ],
   "source": [
    "temletrau()"
   ]
  },
  {
   "cell_type": "code",
   "execution_count": 37,
   "metadata": {},
   "outputs": [],
   "source": [
    "def somaquadrados(a,b):\n",
    "    somaQ = a**2 + b**2\n",
    "    return somaQ"
   ]
  },
  {
   "cell_type": "code",
   "execution_count": 39,
   "metadata": {},
   "outputs": [
    {
     "data": {
      "text/plain": [
       "13"
      ]
     },
     "execution_count": 39,
     "metadata": {},
     "output_type": "execute_result"
    }
   ],
   "source": [
    "somaquadrados(2,3)"
   ]
  },
  {
   "cell_type": "code",
   "execution_count": null,
   "metadata": {},
   "outputs": [],
   "source": []
  }
 ],
 "metadata": {
  "kernelspec": {
   "display_name": "Python 3",
   "language": "python",
   "name": "python3"
  },
  "language_info": {
   "codemirror_mode": {
    "name": "ipython",
    "version": 3
   },
   "file_extension": ".py",
   "mimetype": "text/x-python",
   "name": "python",
   "nbconvert_exporter": "python",
   "pygments_lexer": "ipython3",
   "version": "3.8.3"
  }
 },
 "nbformat": 4,
 "nbformat_minor": 4
}
